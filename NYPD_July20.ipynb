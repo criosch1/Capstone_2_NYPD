{
 "cells": [
  {
   "cell_type": "markdown",
   "metadata": {},
   "source": [
    "# For Monday Morning (edited)\n",
    "# Investigate this dataset. Find interesting things using Pandas. (You can also use Excel, I guess,  if you absolutely must.)\n",
    "# This assignment MUST be teamwork. Put team members on cover page of presentations.Work in teams of 2-4 but you MUST work with totally DIFFERENT people than anyone you worked with last week!\n",
    "# Presentation Criteria:\n",
    "# Produce a 2-3 page presentation (excluding cover page), max 2 graphs per page, max 50 words of text per slide, due Wednesday by 9pm.\n",
    "# ******\n",
    "# Presentations above three (3) pages or that don’t meet the other criteria above will not be accepted!!!!!\n",
    "# *****\n",
    "# Not required, but maybe you could first to convert this from a wide dataset to a 'tall' dataset using pd.melt() before you begin your analyses in pandas.\n"
   ]
  },
  {
   "cell_type": "code",
   "execution_count": 1,
   "metadata": {},
   "outputs": [],
   "source": [
    "import numpy as np\n",
    "import pandas as pd\n",
    "import matplotlib.pyplot as plt\n",
    "from IPython.display import HTML, display # displaying maps in the notebook\n",
    "import seaborn as sns; sns.set() # graphing data"
   ]
  },
  {
   "cell_type": "code",
   "execution_count": 3,
   "metadata": {
    "scrolled": true
   },
   "outputs": [
    {
     "data": {
      "text/html": [
       "<div>\n",
       "<style scoped>\n",
       "    .dataframe tbody tr th:only-of-type {\n",
       "        vertical-align: middle;\n",
       "    }\n",
       "\n",
       "    .dataframe tbody tr th {\n",
       "        vertical-align: top;\n",
       "    }\n",
       "\n",
       "    .dataframe thead th {\n",
       "        text-align: right;\n",
       "    }\n",
       "</style>\n",
       "<table border=\"1\" class=\"dataframe\">\n",
       "  <thead>\n",
       "    <tr style=\"text-align: right;\">\n",
       "      <th></th>\n",
       "      <th>unique_mos_id</th>\n",
       "      <th>first_name</th>\n",
       "      <th>last_name</th>\n",
       "      <th>command_now</th>\n",
       "      <th>complaint_id</th>\n",
       "      <th>month_received</th>\n",
       "      <th>year_received</th>\n",
       "      <th>month_closed</th>\n",
       "      <th>year_closed</th>\n",
       "      <th>command_at_incident</th>\n",
       "      <th>rank_abbrev_incident</th>\n",
       "      <th>rank_abbrev_now</th>\n",
       "      <th>rank_now</th>\n",
       "      <th>rank_incident</th>\n",
       "      <th>mos_ethnicity</th>\n",
       "      <th>mos_gender</th>\n",
       "      <th>mos_age_incident</th>\n",
       "      <th>complainant_ethnicity</th>\n",
       "      <th>complainant_gender</th>\n",
       "      <th>complainant_age_incident</th>\n",
       "      <th>fado_type</th>\n",
       "      <th>allegation</th>\n",
       "      <th>precinct</th>\n",
       "      <th>contact_reason</th>\n",
       "      <th>outcome_description</th>\n",
       "      <th>board_disposition</th>\n",
       "    </tr>\n",
       "  </thead>\n",
       "  <tbody>\n",
       "    <tr>\n",
       "      <th>0</th>\n",
       "      <td>10004</td>\n",
       "      <td>Jonathan</td>\n",
       "      <td>Ruiz</td>\n",
       "      <td>078 PCT</td>\n",
       "      <td>42835</td>\n",
       "      <td>7</td>\n",
       "      <td>2019</td>\n",
       "      <td>5</td>\n",
       "      <td>2020</td>\n",
       "      <td>078 PCT</td>\n",
       "      <td>POM</td>\n",
       "      <td>POM</td>\n",
       "      <td>Police Officer</td>\n",
       "      <td>Police Officer</td>\n",
       "      <td>Hispanic</td>\n",
       "      <td>M</td>\n",
       "      <td>32</td>\n",
       "      <td>Black</td>\n",
       "      <td>Female</td>\n",
       "      <td>38.0</td>\n",
       "      <td>Abuse of Authority</td>\n",
       "      <td>Failure to provide RTKA card</td>\n",
       "      <td>78.0</td>\n",
       "      <td>Report-domestic dispute</td>\n",
       "      <td>No arrest made or summons issued</td>\n",
       "      <td>Substantiated (Command Lvl Instructions)</td>\n",
       "    </tr>\n",
       "    <tr>\n",
       "      <th>1</th>\n",
       "      <td>10007</td>\n",
       "      <td>John</td>\n",
       "      <td>Sears</td>\n",
       "      <td>078 PCT</td>\n",
       "      <td>24601</td>\n",
       "      <td>11</td>\n",
       "      <td>2011</td>\n",
       "      <td>8</td>\n",
       "      <td>2012</td>\n",
       "      <td>PBBS</td>\n",
       "      <td>POM</td>\n",
       "      <td>POM</td>\n",
       "      <td>Police Officer</td>\n",
       "      <td>Police Officer</td>\n",
       "      <td>White</td>\n",
       "      <td>M</td>\n",
       "      <td>24</td>\n",
       "      <td>Black</td>\n",
       "      <td>Male</td>\n",
       "      <td>26.0</td>\n",
       "      <td>Discourtesy</td>\n",
       "      <td>Action</td>\n",
       "      <td>67.0</td>\n",
       "      <td>Moving violation</td>\n",
       "      <td>Moving violation summons issued</td>\n",
       "      <td>Substantiated (Charges)</td>\n",
       "    </tr>\n",
       "    <tr>\n",
       "      <th>2</th>\n",
       "      <td>10007</td>\n",
       "      <td>John</td>\n",
       "      <td>Sears</td>\n",
       "      <td>078 PCT</td>\n",
       "      <td>24601</td>\n",
       "      <td>11</td>\n",
       "      <td>2011</td>\n",
       "      <td>8</td>\n",
       "      <td>2012</td>\n",
       "      <td>PBBS</td>\n",
       "      <td>POM</td>\n",
       "      <td>POM</td>\n",
       "      <td>Police Officer</td>\n",
       "      <td>Police Officer</td>\n",
       "      <td>White</td>\n",
       "      <td>M</td>\n",
       "      <td>24</td>\n",
       "      <td>Black</td>\n",
       "      <td>Male</td>\n",
       "      <td>26.0</td>\n",
       "      <td>Offensive Language</td>\n",
       "      <td>Race</td>\n",
       "      <td>67.0</td>\n",
       "      <td>Moving violation</td>\n",
       "      <td>Moving violation summons issued</td>\n",
       "      <td>Substantiated (Charges)</td>\n",
       "    </tr>\n",
       "    <tr>\n",
       "      <th>3</th>\n",
       "      <td>10007</td>\n",
       "      <td>John</td>\n",
       "      <td>Sears</td>\n",
       "      <td>078 PCT</td>\n",
       "      <td>26146</td>\n",
       "      <td>7</td>\n",
       "      <td>2012</td>\n",
       "      <td>9</td>\n",
       "      <td>2013</td>\n",
       "      <td>PBBS</td>\n",
       "      <td>POM</td>\n",
       "      <td>POM</td>\n",
       "      <td>Police Officer</td>\n",
       "      <td>Police Officer</td>\n",
       "      <td>White</td>\n",
       "      <td>M</td>\n",
       "      <td>25</td>\n",
       "      <td>Black</td>\n",
       "      <td>Male</td>\n",
       "      <td>45.0</td>\n",
       "      <td>Abuse of Authority</td>\n",
       "      <td>Question</td>\n",
       "      <td>67.0</td>\n",
       "      <td>PD suspected C/V of violation/crime - street</td>\n",
       "      <td>No arrest made or summons issued</td>\n",
       "      <td>Substantiated (Charges)</td>\n",
       "    </tr>\n",
       "    <tr>\n",
       "      <th>4</th>\n",
       "      <td>10009</td>\n",
       "      <td>Noemi</td>\n",
       "      <td>Sierra</td>\n",
       "      <td>078 PCT</td>\n",
       "      <td>40253</td>\n",
       "      <td>8</td>\n",
       "      <td>2018</td>\n",
       "      <td>2</td>\n",
       "      <td>2019</td>\n",
       "      <td>078 PCT</td>\n",
       "      <td>POF</td>\n",
       "      <td>POF</td>\n",
       "      <td>Police Officer</td>\n",
       "      <td>Police Officer</td>\n",
       "      <td>Hispanic</td>\n",
       "      <td>F</td>\n",
       "      <td>39</td>\n",
       "      <td>NaN</td>\n",
       "      <td>NaN</td>\n",
       "      <td>16.0</td>\n",
       "      <td>Force</td>\n",
       "      <td>Physical force</td>\n",
       "      <td>67.0</td>\n",
       "      <td>Report-dispute</td>\n",
       "      <td>Arrest - other violation/crime</td>\n",
       "      <td>Substantiated (Command Discipline A)</td>\n",
       "    </tr>\n",
       "  </tbody>\n",
       "</table>\n",
       "</div>"
      ],
      "text/plain": [
       "   unique_mos_id first_name last_name command_now  complaint_id  \\\n",
       "0          10004   Jonathan      Ruiz     078 PCT         42835   \n",
       "1          10007       John     Sears     078 PCT         24601   \n",
       "2          10007       John     Sears     078 PCT         24601   \n",
       "3          10007       John     Sears     078 PCT         26146   \n",
       "4          10009      Noemi    Sierra     078 PCT         40253   \n",
       "\n",
       "   month_received  year_received  month_closed  year_closed  \\\n",
       "0               7           2019             5         2020   \n",
       "1              11           2011             8         2012   \n",
       "2              11           2011             8         2012   \n",
       "3               7           2012             9         2013   \n",
       "4               8           2018             2         2019   \n",
       "\n",
       "  command_at_incident rank_abbrev_incident rank_abbrev_now        rank_now  \\\n",
       "0             078 PCT                  POM             POM  Police Officer   \n",
       "1                PBBS                  POM             POM  Police Officer   \n",
       "2                PBBS                  POM             POM  Police Officer   \n",
       "3                PBBS                  POM             POM  Police Officer   \n",
       "4             078 PCT                  POF             POF  Police Officer   \n",
       "\n",
       "    rank_incident mos_ethnicity mos_gender  mos_age_incident  \\\n",
       "0  Police Officer      Hispanic          M                32   \n",
       "1  Police Officer         White          M                24   \n",
       "2  Police Officer         White          M                24   \n",
       "3  Police Officer         White          M                25   \n",
       "4  Police Officer      Hispanic          F                39   \n",
       "\n",
       "  complainant_ethnicity complainant_gender  complainant_age_incident  \\\n",
       "0                 Black             Female                      38.0   \n",
       "1                 Black               Male                      26.0   \n",
       "2                 Black               Male                      26.0   \n",
       "3                 Black               Male                      45.0   \n",
       "4                   NaN                NaN                      16.0   \n",
       "\n",
       "            fado_type                    allegation  precinct  \\\n",
       "0  Abuse of Authority  Failure to provide RTKA card      78.0   \n",
       "1         Discourtesy                        Action      67.0   \n",
       "2  Offensive Language                          Race      67.0   \n",
       "3  Abuse of Authority                      Question      67.0   \n",
       "4               Force                Physical force      67.0   \n",
       "\n",
       "                                 contact_reason  \\\n",
       "0                       Report-domestic dispute   \n",
       "1                              Moving violation   \n",
       "2                              Moving violation   \n",
       "3  PD suspected C/V of violation/crime - street   \n",
       "4                                Report-dispute   \n",
       "\n",
       "                outcome_description                         board_disposition  \n",
       "0  No arrest made or summons issued  Substantiated (Command Lvl Instructions)  \n",
       "1   Moving violation summons issued                   Substantiated (Charges)  \n",
       "2   Moving violation summons issued                   Substantiated (Charges)  \n",
       "3  No arrest made or summons issued                   Substantiated (Charges)  \n",
       "4    Arrest - other violation/crime      Substantiated (Command Discipline A)  "
      ]
     },
     "execution_count": 3,
     "metadata": {},
     "output_type": "execute_result"
    }
   ],
   "source": [
    "nypd = pd.read_csv('allegations_20200726939.csv')\n",
    "pd.set_option('display.max_columns', None)\n",
    "nypd.head()"
   ]
  },
  {
   "cell_type": "code",
   "execution_count": null,
   "metadata": {},
   "outputs": [],
   "source": [
    "nypd.columns"
   ]
  },
  {
   "cell_type": "code",
   "execution_count": 31,
   "metadata": {},
   "outputs": [
    {
     "name": "stdout",
     "output_type": "stream",
     "text": [
      "<class 'pandas.core.frame.DataFrame'>\n",
      "RangeIndex: 33358 entries, 0 to 33357\n",
      "Data columns (total 26 columns):\n",
      " #   Column                    Non-Null Count  Dtype  \n",
      "---  ------                    --------------  -----  \n",
      " 0   unique_mos_id             33358 non-null  int64  \n",
      " 1   first_name                33358 non-null  object \n",
      " 2   last_name                 33358 non-null  object \n",
      " 3   command_now               33358 non-null  object \n",
      " 4   complaint_id              33358 non-null  int64  \n",
      " 5   month_received            33358 non-null  int64  \n",
      " 6   year_received             33358 non-null  int64  \n",
      " 7   month_closed              33358 non-null  int64  \n",
      " 8   year_closed               33358 non-null  int64  \n",
      " 9   command_at_incident       31814 non-null  object \n",
      " 10  rank_abbrev_incident      33358 non-null  object \n",
      " 11  rank_abbrev_now           33358 non-null  object \n",
      " 12  rank_now                  33358 non-null  object \n",
      " 13  rank_incident             33358 non-null  object \n",
      " 14  mos_ethnicity             33358 non-null  object \n",
      " 15  mos_gender                33358 non-null  object \n",
      " 16  mos_age_incident          33358 non-null  int64  \n",
      " 17  complainant_ethnicity     28894 non-null  object \n",
      " 18  complainant_gender        29163 non-null  object \n",
      " 19  complainant_age_incident  28546 non-null  float64\n",
      " 20  fado_type                 33358 non-null  object \n",
      " 21  allegation                33357 non-null  object \n",
      " 22  precinct                  33334 non-null  float64\n",
      " 23  contact_reason            33159 non-null  object \n",
      " 24  outcome_description       33302 non-null  object \n",
      " 25  board_disposition         33358 non-null  object \n",
      "dtypes: float64(2), int64(7), object(17)\n",
      "memory usage: 6.6+ MB\n"
     ]
    }
   ],
   "source": [
    "nypd.info()"
   ]
  },
  {
   "cell_type": "code",
   "execution_count": null,
   "metadata": {},
   "outputs": [],
   "source": [
    "nypd.describe()"
   ]
  },
  {
   "cell_type": "code",
   "execution_count": null,
   "metadata": {},
   "outputs": [],
   "source": [
    "nypd.shape"
   ]
  },
  {
   "cell_type": "code",
   "execution_count": 4,
   "metadata": {},
   "outputs": [
    {
     "data": {
      "text/plain": [
       "White              18074\n",
       "Hispanic            9150\n",
       "Black               4924\n",
       "Asian               1178\n",
       "American Indian       32\n",
       "Name: mos_ethnicity, dtype: int64"
      ]
     },
     "execution_count": 4,
     "metadata": {},
     "output_type": "execute_result"
    }
   ],
   "source": [
    "nypd['mos_ethnicity'].value_counts(dropna=False)"
   ]
  },
  {
   "cell_type": "code",
   "execution_count": null,
   "metadata": {},
   "outputs": [],
   "source": [
    "nypd['complainant_ethnicity'].value_counts(dropna=False)"
   ]
  },
  {
   "cell_type": "code",
   "execution_count": null,
   "metadata": {},
   "outputs": [],
   "source": [
    "nypd['fado_type'].value_counts(dropna=False)"
   ]
  },
  {
   "cell_type": "code",
   "execution_count": null,
   "metadata": {},
   "outputs": [],
   "source": [
    "nypd['contact_reason'].value_counts(dropna=False)"
   ]
  },
  {
   "cell_type": "code",
   "execution_count": null,
   "metadata": {},
   "outputs": [],
   "source": [
    "nypd['outcome_description'].value_counts(dropna=False)"
   ]
  },
  {
   "cell_type": "code",
   "execution_count": null,
   "metadata": {},
   "outputs": [],
   "source": [
    "nypd['board_disposition'].value_counts(dropna=False)"
   ]
  },
  {
   "cell_type": "code",
   "execution_count": null,
   "metadata": {},
   "outputs": [],
   "source": [
    "nypd['command_at_incident'].value_counts(dropna=False)"
   ]
  },
  {
   "cell_type": "code",
   "execution_count": null,
   "metadata": {},
   "outputs": [],
   "source": [
    "nypd['command_now'].value_counts(dropna=False)"
   ]
  },
  {
   "cell_type": "code",
   "execution_count": null,
   "metadata": {},
   "outputs": [],
   "source": [
    "nypd['rank_incident'].value_counts(dropna=False)"
   ]
  },
  {
   "cell_type": "code",
   "execution_count": null,
   "metadata": {},
   "outputs": [],
   "source": [
    "nypd['rank_now'].value_counts(dropna=False)"
   ]
  },
  {
   "cell_type": "code",
   "execution_count": null,
   "metadata": {},
   "outputs": [],
   "source": [
    "nypd['unique_mos_id'].value_counts(dropna=False)"
   ]
  },
  {
   "cell_type": "code",
   "execution_count": 34,
   "metadata": {},
   "outputs": [
    {
     "data": {
      "text/plain": [
       "75.0      2172\n",
       "73.0      1163\n",
       "44.0      1139\n",
       "46.0      1120\n",
       "67.0      1119\n",
       "          ... \n",
       "111.0       37\n",
       "NaN         24\n",
       "0.0         21\n",
       "22.0        12\n",
       "1000.0       3\n",
       "Name: precinct, Length: 80, dtype: int64"
      ]
     },
     "execution_count": 34,
     "metadata": {},
     "output_type": "execute_result"
    }
   ],
   "source": [
    "nypd['precinct'].value_counts(dropna=False)"
   ]
  },
  {
   "cell_type": "code",
   "execution_count": 41,
   "metadata": {},
   "outputs": [
    {
     "data": {
      "text/plain": [
       "mos_ethnicity    board_disposition                       \n",
       "American Indian  Unsubstantiated                               21\n",
       "                 Exonerated                                     7\n",
       "                 Substantiated (Charges)                        4\n",
       "Asian            Unsubstantiated                              479\n",
       "                 Exonerated                                   333\n",
       "                 Substantiated (Charges)                      125\n",
       "                 Substantiated (Formalized Training)           75\n",
       "                 Substantiated (Command Discipline A)          52\n",
       "                 Substantiated (Command Discipline B)          37\n",
       "                 Substantiated (Command Discipline)            31\n",
       "                 Substantiated (Command Lvl Instructions)      23\n",
       "                 Substantiated (Instructions)                  18\n",
       "                 Substantiated (No Recommendations)             5\n",
       "Black            Unsubstantiated                             2308\n",
       "                 Exonerated                                  1374\n",
       "                 Substantiated (Charges)                      611\n",
       "                 Substantiated (Formalized Training)          148\n",
       "                 Substantiated (Command Discipline A)         146\n",
       "                 Substantiated (Command Discipline)           109\n",
       "                 Substantiated (Command Discipline B)         102\n",
       "                 Substantiated (Command Lvl Instructions)      62\n",
       "                 Substantiated (Instructions)                  44\n",
       "                 Substantiated (No Recommendations)            20\n",
       "Hispanic         Unsubstantiated                             4285\n",
       "                 Exonerated                                  2546\n",
       "                 Substantiated (Charges)                     1004\n",
       "                 Substantiated (Formalized Training)          316\n",
       "                 Substantiated (Command Discipline A)         294\n",
       "                 Substantiated (Command Discipline B)         243\n",
       "                 Substantiated (Command Discipline)           222\n",
       "                 Substantiated (Command Lvl Instructions)     142\n",
       "                 Substantiated (Instructions)                  65\n",
       "                 Substantiated (No Recommendations)            33\n",
       "White            Unsubstantiated                             8355\n",
       "                 Exonerated                                  5349\n",
       "                 Substantiated (Charges)                     2052\n",
       "                 Substantiated (Formalized Training)          494\n",
       "                 Substantiated (Command Discipline)           489\n",
       "                 Substantiated (Command Discipline A)         472\n",
       "                 Substantiated (Command Discipline B)         407\n",
       "                 Substantiated (Command Lvl Instructions)     227\n",
       "                 Substantiated (Instructions)                 121\n",
       "                 Substantiated (No Recommendations)           107\n",
       "                 Substantiated (MOS Unidentified)               1\n",
       "Name: board_disposition, dtype: int64"
      ]
     },
     "execution_count": 41,
     "metadata": {},
     "output_type": "execute_result"
    }
   ],
   "source": [
    "#nypd.groupby('mos_ethnicity')['board_disposition'].value_counts(dropna=False)\n",
    "nypd.groupby('mos_ethnicity')['board_disposition'].value_counts(dropna=False)"
   ]
  },
  {
   "cell_type": "code",
   "execution_count": 45,
   "metadata": {},
   "outputs": [
    {
     "data": {
      "text/plain": [
       "mos_ethnicity    fado_type         \n",
       "American Indian  Abuse of Authority    0.531250\n",
       "                 Discourtesy           0.218750\n",
       "                 Force                 0.156250\n",
       "                 Offensive Language    0.093750\n",
       "Asian            Abuse of Authority    0.646010\n",
       "                 Force                 0.214771\n",
       "                 Discourtesy           0.124788\n",
       "                 Offensive Language    0.014431\n",
       "Black            Abuse of Authority    0.610885\n",
       "                 Force                 0.232535\n",
       "                 Discourtesy           0.132616\n",
       "                 Offensive Language    0.023964\n",
       "Hispanic         Abuse of Authority    0.609945\n",
       "                 Force                 0.234208\n",
       "                 Discourtesy           0.136831\n",
       "                 Offensive Language    0.019016\n",
       "White            Abuse of Authority    0.604459\n",
       "                 Force                 0.226292\n",
       "                 Discourtesy           0.144849\n",
       "                 Offensive Language    0.024400\n",
       "Name: fado_type, dtype: float64"
      ]
     },
     "execution_count": 45,
     "metadata": {},
     "output_type": "execute_result"
    }
   ],
   "source": [
    "nypd.groupby('mos_ethnicity')['fado_type'].value_counts(normalize=True,dropna=False)"
   ]
  },
  {
   "cell_type": "code",
   "execution_count": 44,
   "metadata": {},
   "outputs": [
    {
     "data": {
      "text/plain": [
       "unique_mos_id                  0\n",
       "first_name                     0\n",
       "last_name                      0\n",
       "command_now                    0\n",
       "complaint_id                   0\n",
       "month_received                 0\n",
       "year_received                  0\n",
       "month_closed                   0\n",
       "year_closed                    0\n",
       "command_at_incident         1544\n",
       "rank_abbrev_incident           0\n",
       "rank_abbrev_now                0\n",
       "rank_now                       0\n",
       "rank_incident                  0\n",
       "mos_ethnicity                  0\n",
       "mos_gender                     0\n",
       "mos_age_incident               0\n",
       "complainant_ethnicity       4464\n",
       "complainant_gender          4195\n",
       "complainant_age_incident    4812\n",
       "fado_type                      0\n",
       "allegation                     1\n",
       "precinct                      24\n",
       "contact_reason               199\n",
       "outcome_description           56\n",
       "board_disposition              0\n",
       "dtype: int64"
      ]
     },
     "execution_count": 44,
     "metadata": {},
     "output_type": "execute_result"
    }
   ],
   "source": [
    "nypd.isnull().sum()"
   ]
  },
  {
   "cell_type": "code",
   "execution_count": null,
   "metadata": {},
   "outputs": [],
   "source": []
  }
 ],
 "metadata": {
  "kernelspec": {
   "display_name": "Python 3",
   "language": "python",
   "name": "python3"
  },
  "language_info": {
   "codemirror_mode": {
    "name": "ipython",
    "version": 3
   },
   "file_extension": ".py",
   "mimetype": "text/x-python",
   "name": "python",
   "nbconvert_exporter": "python",
   "pygments_lexer": "ipython3",
   "version": "3.7.4"
  }
 },
 "nbformat": 4,
 "nbformat_minor": 4
}
